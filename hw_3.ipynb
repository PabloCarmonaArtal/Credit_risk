{
 "cells": [
  {
   "cell_type": "markdown",
   "metadata": {},
   "source": [
    "# Data preparation"
   ]
  },
  {
   "cell_type": "markdown",
   "metadata": {},
   "source": [
    "Miembros del grupo:\n",
    "- Pablo Carmona\n",
    "- Javier Sendra"
   ]
  },
  {
   "cell_type": "code",
   "execution_count": 1,
   "metadata": {
    "ExecuteTime": {
     "end_time": "2019-04-24T18:03:19.930654Z",
     "start_time": "2019-04-24T18:03:18.880355Z"
    }
   },
   "outputs": [],
   "source": [
    "# We will use pandas, a very widespread library in python\n",
    "# In case you have never used it, or want to review its documentation\n",
    "# These are some interesting docs:\n",
    "# http://pandas.pydata.org/pandas-docs/stable/\n",
    "# https://pandas.pydata.org/pandas-docs/stable/getting_started/tutorials.html\n",
    "# https://pandas.pydata.org/pandas-docs/stable/getting_started/10min.html\n",
    "# https://pandas.pydata.org/pandas-docs/stable/user_guide/cookbook.html\n",
    "import pandas as pd\n",
    "%matplotlib inline"
   ]
  },
  {
   "cell_type": "markdown",
   "metadata": {},
   "source": [
    "### read data"
   ]
  },
  {
   "cell_type": "code",
   "execution_count": 34,
   "metadata": {
    "ExecuteTime": {
     "end_time": "2019-04-24T18:03:41.805689Z",
     "start_time": "2019-04-24T18:03:41.794618Z"
    }
   },
   "outputs": [],
   "source": [
    "# read_csv is the function that reads csvs, it returns a Pandas dataframe\n",
    "df = pd.read_csv('/workspaces/Credit_risk/prosperLoanData.csv',quoting=False)"
   ]
  },
  {
   "cell_type": "code",
   "execution_count": 3,
   "metadata": {
    "ExecuteTime": {
     "end_time": "2019-04-24T18:03:36.570037Z",
     "start_time": "2019-04-24T18:03:36.549891Z"
    }
   },
   "outputs": [
    {
     "name": "stdout",
     "output_type": "stream",
     "text": [
      "The DataSet has 113937 rows and 81 columns\n"
     ]
    }
   ],
   "source": [
    "# Check number of rows and columns\n",
    "print ('The DataSet has {} rows and {} columns'.format(df.shape[0], df.shape[1]))"
   ]
  },
  {
   "cell_type": "code",
   "execution_count": 4,
   "metadata": {
    "ExecuteTime": {
     "end_time": "2019-04-24T18:03:44.695455Z",
     "start_time": "2019-04-24T18:03:44.647390Z"
    }
   },
   "outputs": [
    {
     "data": {
      "text/plain": [
       "Index(['ListingKey', 'ListingNumber', 'ListingCreationDate', 'CreditGrade',\n",
       "       'Term', 'LoanStatus', 'ClosedDate', 'BorrowerAPR', 'BorrowerRate',\n",
       "       'LenderYield', 'EstimatedEffectiveYield', 'EstimatedLoss',\n",
       "       'EstimatedReturn', 'ProsperRating (numeric)', 'ProsperRating (Alpha)',\n",
       "       'ProsperScore', 'ListingCategory (numeric)', 'BorrowerState',\n",
       "       'Occupation', 'EmploymentStatus', 'EmploymentStatusDuration',\n",
       "       'IsBorrowerHomeowner', 'CurrentlyInGroup', 'GroupKey',\n",
       "       'DateCreditPulled', 'CreditScoreRangeLower', 'CreditScoreRangeUpper',\n",
       "       'FirstRecordedCreditLine', 'CurrentCreditLines', 'OpenCreditLines',\n",
       "       'TotalCreditLinespast7years', 'OpenRevolvingAccounts',\n",
       "       'OpenRevolvingMonthlyPayment', 'InquiriesLast6Months', 'TotalInquiries',\n",
       "       'CurrentDelinquencies', 'AmountDelinquent', 'DelinquenciesLast7Years',\n",
       "       'PublicRecordsLast10Years', 'PublicRecordsLast12Months',\n",
       "       'RevolvingCreditBalance', 'BankcardUtilization',\n",
       "       'AvailableBankcardCredit', 'TotalTrades',\n",
       "       'TradesNeverDelinquent (percentage)', 'TradesOpenedLast6Months',\n",
       "       'DebtToIncomeRatio', 'IncomeRange', 'IncomeVerifiable',\n",
       "       'StatedMonthlyIncome', 'LoanKey', 'TotalProsperLoans',\n",
       "       'TotalProsperPaymentsBilled', 'OnTimeProsperPayments',\n",
       "       'ProsperPaymentsLessThanOneMonthLate',\n",
       "       'ProsperPaymentsOneMonthPlusLate', 'ProsperPrincipalBorrowed',\n",
       "       'ProsperPrincipalOutstanding', 'ScorexChangeAtTimeOfListing',\n",
       "       'LoanCurrentDaysDelinquent', 'LoanFirstDefaultedCycleNumber',\n",
       "       'LoanMonthsSinceOrigination', 'LoanNumber', 'LoanOriginalAmount',\n",
       "       'LoanOriginationDate', 'LoanOriginationQuarter', 'MemberKey',\n",
       "       'MonthlyLoanPayment', 'LP_CustomerPayments',\n",
       "       'LP_CustomerPrincipalPayments', 'LP_InterestandFees', 'LP_ServiceFees',\n",
       "       'LP_CollectionFees', 'LP_GrossPrincipalLoss', 'LP_NetPrincipalLoss',\n",
       "       'LP_NonPrincipalRecoverypayments', 'PercentFunded', 'Recommendations',\n",
       "       'InvestmentFromFriendsCount', 'InvestmentFromFriendsAmount',\n",
       "       'Investors'],\n",
       "      dtype='object')"
      ]
     },
     "execution_count": 4,
     "metadata": {},
     "output_type": "execute_result"
    }
   ],
   "source": [
    "# Check the columns name\n",
    "df.columns"
   ]
  },
  {
   "cell_type": "markdown",
   "metadata": {},
   "source": [
    "Algunas de las columnas claves del dataset son:\n",
    "\n",
    "- **LoanStatus**: Esta variable representa el estado acual del prestamo. Puede tener las siguientes categorías: 'Cancelled', 'Chargedoff', 'Completed', 'Current', 'Default', 'FinalPaymentInProgress' y 'PastDue'. Hay que destacar que este último vendrá acompañado de un 'Delicuency bucket'\n",
    "\n",
    "\n",
    "- **LoanMonthsSinceOrigination**: Esta variable representa el número de meses transcurridos desde la fecha de originación.\n",
    "\n",
    "\n",
    "- **LoanFirstDefaultedCycleNumber**: Esta variable representa el ciclo del préstamo hasta que incurrió en Default.\n",
    "\n",
    "\n",
    "- **LoanCurrentDaysDelinquent**: Esta variable representa el número de días en las que el préstamo incurrío en mora\n"
   ]
  },
  {
   "cell_type": "markdown",
   "metadata": {},
   "source": [
    "# Performance & Sample Window"
   ]
  },
  {
   "cell_type": "code",
   "execution_count": 5,
   "metadata": {
    "ExecuteTime": {
     "end_time": "2019-04-24T18:03:47.228550Z",
     "start_time": "2019-04-24T18:03:46.288428Z"
    }
   },
   "outputs": [
    {
     "data": {
      "text/plain": [
       "<Axes: >"
      ]
     },
     "execution_count": 5,
     "metadata": {},
     "output_type": "execute_result"
    },
    {
     "data": {
      "image/png": "[encoded data removed]",
      "text/plain": [
       "<Figure size 640x480 with 1 Axes>"
      ]
     },
     "metadata": {},
     "output_type": "display_data"
    }
   ],
   "source": [
    "pd.to_datetime(df.LoanOriginationDate.str[:10]).hist()"
   ]
  },
  {
   "cell_type": "markdown",
   "metadata": {},
   "source": [
    "**TODO 1** Seleccionar y razonar la columna que debería ser usada como input para nuestra variable objetivo. Existen dos opciones:\n",
    "- Opción A: **LoanStatus** \n",
    "- Opción B: **LoanFirstDefaultedCycleNumber** "
   ]
  },
  {
   "cell_type": "markdown",
   "metadata": {},
   "source": [
    "Escribe tu respuesta aquí:\n",
    "\n",
    "Nuestra varaible objetivo cambiara dependiendo de el objetivo del analisis, si quisiesemos observar el numero actual de prestamos que han sido cancelados o 'Defulted' en relacion a cierta vraiable, la princial sera LoanStatus. \n",
    "En caso contrario, en el cual el objetivo sea predecir o adelantar cuando basandonos en datos historicos. el prestamo entrara en Default, entonces LoanFirstDefaultedCycleNumber sera la variable principal."
   ]
  },
  {
   "cell_type": "markdown",
   "metadata": {},
   "source": [
    "## Vintage analysis"
   ]
  },
  {
   "cell_type": "markdown",
   "metadata": {},
   "source": [
    "El análisis Vintage nos permite entender el comportamiento de los prestamos con respecto al bad rate, para cada año de origen del préstamo, y para cada ventana en la que evaluamos si ha habido default."
   ]
  },
  {
   "cell_type": "code",
   "execution_count": 35,
   "metadata": {
    "ExecuteTime": {
     "end_time": "2019-04-24T16:52:36.160315Z",
     "start_time": "2019-04-24T16:52:35.802229Z"
    }
   },
   "outputs": [
    {
     "data": {
      "text/html": [
       "<div>\n",
       "<style scoped>\n",
       "    .dataframe tbody tr th:only-of-type {\n",
       "        vertical-align: middle;\n",
       "    }\n",
       "\n",
       "    .dataframe tbody tr th {\n",
       "        vertical-align: top;\n",
       "    }\n",
       "\n",
       "    .dataframe thead th {\n",
       "        text-align: right;\n",
       "    }\n",
       "</style>\n",
       "<table border=\"1\" class=\"dataframe\">\n",
       "  <thead>\n",
       "    <tr style=\"text-align: right;\">\n",
       "      <th></th>\n",
       "      <th>LoanMonthsSinceOriginationY</th>\n",
       "      <th>N_loans</th>\n",
       "      <th>LoanFirstDefaultedCycleNumberQ</th>\n",
       "      <th>N_bads</th>\n",
       "      <th>BR</th>\n",
       "    </tr>\n",
       "  </thead>\n",
       "  <tbody>\n",
       "    <tr>\n",
       "      <th>60</th>\n",
       "      <td>7.0</td>\n",
       "      <td>10513</td>\n",
       "      <td>0.0</td>\n",
       "      <td>209</td>\n",
       "      <td>1.988015</td>\n",
       "    </tr>\n",
       "    <tr>\n",
       "      <th>61</th>\n",
       "      <td>7.0</td>\n",
       "      <td>10513</td>\n",
       "      <td>4.0</td>\n",
       "      <td>302</td>\n",
       "      <td>2.872634</td>\n",
       "    </tr>\n",
       "    <tr>\n",
       "      <th>62</th>\n",
       "      <td>7.0</td>\n",
       "      <td>10513</td>\n",
       "      <td>8.0</td>\n",
       "      <td>1398</td>\n",
       "      <td>13.297822</td>\n",
       "    </tr>\n",
       "    <tr>\n",
       "      <th>63</th>\n",
       "      <td>7.0</td>\n",
       "      <td>10513</td>\n",
       "      <td>12.0</td>\n",
       "      <td>1978</td>\n",
       "      <td>18.814801</td>\n",
       "    </tr>\n",
       "    <tr>\n",
       "      <th>64</th>\n",
       "      <td>7.0</td>\n",
       "      <td>10513</td>\n",
       "      <td>16.0</td>\n",
       "      <td>2659</td>\n",
       "      <td>25.292495</td>\n",
       "    </tr>\n",
       "    <tr>\n",
       "      <th>65</th>\n",
       "      <td>7.0</td>\n",
       "      <td>10513</td>\n",
       "      <td>20.0</td>\n",
       "      <td>3013</td>\n",
       "      <td>28.659755</td>\n",
       "    </tr>\n",
       "    <tr>\n",
       "      <th>66</th>\n",
       "      <td>7.0</td>\n",
       "      <td>10513</td>\n",
       "      <td>24.0</td>\n",
       "      <td>3508</td>\n",
       "      <td>33.368211</td>\n",
       "    </tr>\n",
       "    <tr>\n",
       "      <th>67</th>\n",
       "      <td>7.0</td>\n",
       "      <td>10513</td>\n",
       "      <td>28.0</td>\n",
       "      <td>3754</td>\n",
       "      <td>35.708171</td>\n",
       "    </tr>\n",
       "    <tr>\n",
       "      <th>68</th>\n",
       "      <td>7.0</td>\n",
       "      <td>10513</td>\n",
       "      <td>32.0</td>\n",
       "      <td>4075</td>\n",
       "      <td>38.761533</td>\n",
       "    </tr>\n",
       "    <tr>\n",
       "      <th>69</th>\n",
       "      <td>7.0</td>\n",
       "      <td>10513</td>\n",
       "      <td>36.0</td>\n",
       "      <td>4207</td>\n",
       "      <td>40.017122</td>\n",
       "    </tr>\n",
       "    <tr>\n",
       "      <th>70</th>\n",
       "      <td>7.0</td>\n",
       "      <td>10513</td>\n",
       "      <td>40.0</td>\n",
       "      <td>4352</td>\n",
       "      <td>41.396366</td>\n",
       "    </tr>\n",
       "  </tbody>\n",
       "</table>\n",
       "</div>"
      ],
      "text/plain": [
       "    LoanMonthsSinceOriginationY  N_loans  LoanFirstDefaultedCycleNumberQ  \\\n",
       "60                          7.0    10513                             0.0   \n",
       "61                          7.0    10513                             4.0   \n",
       "62                          7.0    10513                             8.0   \n",
       "63                          7.0    10513                            12.0   \n",
       "64                          7.0    10513                            16.0   \n",
       "65                          7.0    10513                            20.0   \n",
       "66                          7.0    10513                            24.0   \n",
       "67                          7.0    10513                            28.0   \n",
       "68                          7.0    10513                            32.0   \n",
       "69                          7.0    10513                            36.0   \n",
       "70                          7.0    10513                            40.0   \n",
       "\n",
       "    N_bads         BR  \n",
       "60     209   1.988015  \n",
       "61     302   2.872634  \n",
       "62    1398  13.297822  \n",
       "63    1978  18.814801  \n",
       "64    2659  25.292495  \n",
       "65    3013  28.659755  \n",
       "66    3508  33.368211  \n",
       "67    3754  35.708171  \n",
       "68    4075  38.761533  \n",
       "69    4207  40.017122  \n",
       "70    4352  41.396366  "
      ]
     },
     "execution_count": 35,
     "metadata": {},
     "output_type": "execute_result"
    }
   ],
   "source": [
    "# Years since loan origination\n",
    "df['LoanMonthsSinceOriginationY'] = (df.LoanMonthsSinceOrigination / 12).round()\n",
    "# Quarter in which the Loan defaulted\n",
    "df['LoanFirstDefaultedCycleNumberQ'] = 4 * (df.LoanFirstDefaultedCycleNumber / 4).round()\n",
    "# Get the number of loans per origination year\n",
    "df_vintage = df.groupby('LoanMonthsSinceOriginationY').agg({'LoanMonthsSinceOriginationY': 'size'})\\\n",
    "                                                     .rename(columns={'LoanMonthsSinceOriginationY': 'N_loans'})\\\n",
    "                                                     .reset_index()\n",
    "\n",
    "\n",
    "# For each year, compute the cummulative sum of defaulted loans per quarter\n",
    "df['bad_aux'] = ~df['LoanFirstDefaultedCycleNumber'].isna()\n",
    "df_def_per_cycle = pd.DataFrame(df.groupby(['LoanMonthsSinceOriginationY', 'LoanFirstDefaultedCycleNumberQ'])['bad_aux'].sum().groupby(level=[0]).cumsum()).reset_index()\n",
    "df_def_per_cycle.columns = df_def_per_cycle.columns[:-1].tolist() +  ['N_bads']\n",
    "\n",
    "# Merge both data sources, compute the bad rate\n",
    "df_vintage = df_vintage.merge(df_def_per_cycle, on='LoanMonthsSinceOriginationY')\n",
    "df_vintage['BR'] = 100. * df_vintage['N_bads'] / df_vintage['N_loans']\n",
    "\n",
    "df_vintage[df_vintage.LoanMonthsSinceOriginationY==7]"
   ]
  },
  {
   "cell_type": "code",
   "execution_count": 36,
   "metadata": {
    "ExecuteTime": {
     "end_time": "2019-04-24T16:52:42.988383Z",
     "start_time": "2019-04-24T16:52:42.880718Z"
    }
   },
   "outputs": [
    {
     "data": {
      "text/html": [
       "<div>\n",
       "<style scoped>\n",
       "    .dataframe tbody tr th:only-of-type {\n",
       "        vertical-align: middle;\n",
       "    }\n",
       "\n",
       "    .dataframe tbody tr th {\n",
       "        vertical-align: top;\n",
       "    }\n",
       "\n",
       "    .dataframe thead th {\n",
       "        text-align: right;\n",
       "    }\n",
       "</style>\n",
       "<table border=\"1\" class=\"dataframe\">\n",
       "  <thead>\n",
       "    <tr style=\"text-align: right;\">\n",
       "      <th>LoanFirstDefaultedCycleNumberQ</th>\n",
       "      <th>0.0</th>\n",
       "      <th>4.0</th>\n",
       "      <th>8.0</th>\n",
       "      <th>12.0</th>\n",
       "      <th>16.0</th>\n",
       "      <th>20.0</th>\n",
       "      <th>24.0</th>\n",
       "      <th>28.0</th>\n",
       "      <th>32.0</th>\n",
       "      <th>36.0</th>\n",
       "      <th>40.0</th>\n",
       "      <th>44.0</th>\n",
       "    </tr>\n",
       "    <tr>\n",
       "      <th>LoanMonthsSinceOriginationY</th>\n",
       "      <th></th>\n",
       "      <th></th>\n",
       "      <th></th>\n",
       "      <th></th>\n",
       "      <th></th>\n",
       "      <th></th>\n",
       "      <th></th>\n",
       "      <th></th>\n",
       "      <th></th>\n",
       "      <th></th>\n",
       "      <th></th>\n",
       "      <th></th>\n",
       "    </tr>\n",
       "  </thead>\n",
       "  <tbody>\n",
       "    <tr>\n",
       "      <th>0.0</th>\n",
       "      <td>NaN</td>\n",
       "      <td>0.003355</td>\n",
       "      <td>0.010064</td>\n",
       "      <td>NaN</td>\n",
       "      <td>NaN</td>\n",
       "      <td>NaN</td>\n",
       "      <td>NaN</td>\n",
       "      <td>NaN</td>\n",
       "      <td>NaN</td>\n",
       "      <td>NaN</td>\n",
       "      <td>NaN</td>\n",
       "      <td>NaN</td>\n",
       "    </tr>\n",
       "    <tr>\n",
       "      <th>1.0</th>\n",
       "      <td>0.014195</td>\n",
       "      <td>0.085171</td>\n",
       "      <td>2.186051</td>\n",
       "      <td>2.943125</td>\n",
       "      <td>3.368979</td>\n",
       "      <td>NaN</td>\n",
       "      <td>NaN</td>\n",
       "      <td>NaN</td>\n",
       "      <td>NaN</td>\n",
       "      <td>NaN</td>\n",
       "      <td>NaN</td>\n",
       "      <td>NaN</td>\n",
       "    </tr>\n",
       "    <tr>\n",
       "      <th>2.0</th>\n",
       "      <td>0.039757</td>\n",
       "      <td>0.462181</td>\n",
       "      <td>5.342411</td>\n",
       "      <td>8.180101</td>\n",
       "      <td>12.160819</td>\n",
       "      <td>13.850512</td>\n",
       "      <td>15.132691</td>\n",
       "      <td>15.321539</td>\n",
       "      <td>15.326508</td>\n",
       "      <td>NaN</td>\n",
       "      <td>NaN</td>\n",
       "      <td>NaN</td>\n",
       "    </tr>\n",
       "    <tr>\n",
       "      <th>3.0</th>\n",
       "      <td>0.497830</td>\n",
       "      <td>0.931836</td>\n",
       "      <td>5.731427</td>\n",
       "      <td>8.424815</td>\n",
       "      <td>12.215982</td>\n",
       "      <td>14.003064</td>\n",
       "      <td>16.504978</td>\n",
       "      <td>17.870820</td>\n",
       "      <td>19.019658</td>\n",
       "      <td>19.211131</td>\n",
       "      <td>19.223896</td>\n",
       "      <td>NaN</td>\n",
       "    </tr>\n",
       "    <tr>\n",
       "      <th>4.0</th>\n",
       "      <td>1.117222</td>\n",
       "      <td>1.460983</td>\n",
       "      <td>4.417326</td>\n",
       "      <td>6.170505</td>\n",
       "      <td>8.765899</td>\n",
       "      <td>10.072190</td>\n",
       "      <td>12.220694</td>\n",
       "      <td>13.234789</td>\n",
       "      <td>14.575455</td>\n",
       "      <td>15.177037</td>\n",
       "      <td>15.830182</td>\n",
       "      <td>NaN</td>\n",
       "    </tr>\n",
       "    <tr>\n",
       "      <th>5.0</th>\n",
       "      <td>0.861009</td>\n",
       "      <td>NaN</td>\n",
       "      <td>6.150062</td>\n",
       "      <td>9.963100</td>\n",
       "      <td>14.022140</td>\n",
       "      <td>15.252153</td>\n",
       "      <td>17.958180</td>\n",
       "      <td>19.311193</td>\n",
       "      <td>20.541205</td>\n",
       "      <td>21.156212</td>\n",
       "      <td>22.017220</td>\n",
       "      <td>NaN</td>\n",
       "    </tr>\n",
       "    <tr>\n",
       "      <th>6.0</th>\n",
       "      <td>1.280445</td>\n",
       "      <td>1.851079</td>\n",
       "      <td>8.427279</td>\n",
       "      <td>12.985386</td>\n",
       "      <td>20.215727</td>\n",
       "      <td>23.291580</td>\n",
       "      <td>27.446068</td>\n",
       "      <td>29.485038</td>\n",
       "      <td>31.649269</td>\n",
       "      <td>32.713987</td>\n",
       "      <td>34.036186</td>\n",
       "      <td>34.043145</td>\n",
       "    </tr>\n",
       "    <tr>\n",
       "      <th>7.0</th>\n",
       "      <td>1.988015</td>\n",
       "      <td>2.872634</td>\n",
       "      <td>13.297822</td>\n",
       "      <td>18.814801</td>\n",
       "      <td>25.292495</td>\n",
       "      <td>28.659755</td>\n",
       "      <td>33.368211</td>\n",
       "      <td>35.708171</td>\n",
       "      <td>38.761533</td>\n",
       "      <td>40.017122</td>\n",
       "      <td>41.396366</td>\n",
       "      <td>NaN</td>\n",
       "    </tr>\n",
       "    <tr>\n",
       "      <th>8.0</th>\n",
       "      <td>1.276596</td>\n",
       "      <td>2.723404</td>\n",
       "      <td>11.177305</td>\n",
       "      <td>15.829787</td>\n",
       "      <td>22.978723</td>\n",
       "      <td>25.929078</td>\n",
       "      <td>29.900709</td>\n",
       "      <td>31.659574</td>\n",
       "      <td>34.269504</td>\n",
       "      <td>35.659574</td>\n",
       "      <td>36.964539</td>\n",
       "      <td>NaN</td>\n",
       "    </tr>\n",
       "  </tbody>\n",
       "</table>\n",
       "</div>"
      ],
      "text/plain": [
       "LoanFirstDefaultedCycleNumberQ      0.0       4.0        8.0        12.0  \\\n",
       "LoanMonthsSinceOriginationY                                                \n",
       "0.0                                  NaN  0.003355   0.010064        NaN   \n",
       "1.0                             0.014195  0.085171   2.186051   2.943125   \n",
       "2.0                             0.039757  0.462181   5.342411   8.180101   \n",
       "3.0                             0.497830  0.931836   5.731427   8.424815   \n",
       "4.0                             1.117222  1.460983   4.417326   6.170505   \n",
       "5.0                             0.861009       NaN   6.150062   9.963100   \n",
       "6.0                             1.280445  1.851079   8.427279  12.985386   \n",
       "7.0                             1.988015  2.872634  13.297822  18.814801   \n",
       "8.0                             1.276596  2.723404  11.177305  15.829787   \n",
       "\n",
       "LoanFirstDefaultedCycleNumberQ       16.0       20.0       24.0       28.0  \\\n",
       "LoanMonthsSinceOriginationY                                                  \n",
       "0.0                                   NaN        NaN        NaN        NaN   \n",
       "1.0                              3.368979        NaN        NaN        NaN   \n",
       "2.0                             12.160819  13.850512  15.132691  15.321539   \n",
       "3.0                             12.215982  14.003064  16.504978  17.870820   \n",
       "4.0                              8.765899  10.072190  12.220694  13.234789   \n",
       "5.0                             14.022140  15.252153  17.958180  19.311193   \n",
       "6.0                             20.215727  23.291580  27.446068  29.485038   \n",
       "7.0                             25.292495  28.659755  33.368211  35.708171   \n",
       "8.0                             22.978723  25.929078  29.900709  31.659574   \n",
       "\n",
       "LoanFirstDefaultedCycleNumberQ       32.0       36.0       40.0       44.0  \n",
       "LoanMonthsSinceOriginationY                                                 \n",
       "0.0                                   NaN        NaN        NaN        NaN  \n",
       "1.0                                   NaN        NaN        NaN        NaN  \n",
       "2.0                             15.326508        NaN        NaN        NaN  \n",
       "3.0                             19.019658  19.211131  19.223896        NaN  \n",
       "4.0                             14.575455  15.177037  15.830182        NaN  \n",
       "5.0                             20.541205  21.156212  22.017220        NaN  \n",
       "6.0                             31.649269  32.713987  34.036186  34.043145  \n",
       "7.0                             38.761533  40.017122  41.396366        NaN  \n",
       "8.0                             34.269504  35.659574  36.964539        NaN  "
      ]
     },
     "execution_count": 36,
     "metadata": {},
     "output_type": "execute_result"
    }
   ],
   "source": [
    "# Transform from long to wide format\n",
    "df_vin_pvt = df_vintage.pivot(index='LoanMonthsSinceOriginationY', columns='LoanFirstDefaultedCycleNumberQ', values='BR')\n",
    "df_vin_pvt"
   ]
  },
  {
   "cell_type": "code",
   "execution_count": 37,
   "metadata": {
    "ExecuteTime": {
     "end_time": "2019-04-24T16:52:44.813059Z",
     "start_time": "2019-04-24T16:52:43.693339Z"
    }
   },
   "outputs": [
    {
     "data": {
      "text/plain": [
       "<Axes: xlabel='LoanFirstDefaultedCycleNumberQ'>"
      ]
     },
     "execution_count": 37,
     "metadata": {},
     "output_type": "execute_result"
    },
    {
     "data": {
      "image/png": "[encoded data removed]",
      "text/plain": [
       "<Figure size 1000x500 with 1 Axes>"
      ]
     },
     "metadata": {},
     "output_type": "display_data"
    }
   ],
   "source": [
    "df_vin_pvt.transpose().plot(figsize=(10, 5))"
   ]
  },
  {
   "cell_type": "markdown",
   "metadata": {},
   "source": [
    "**TODO 2** Explica qué aprendizajes se pueden leer en la gráfica anterior. Razona si los prestamos originados hace 7 años tienen un comportamiento parecido o diferente con respecto a los prestamos originados hace 3 años."
   ]
  },
  {
   "cell_type": "markdown",
   "metadata": {},
   "source": [
    "Escribe tu respuesta aquí:\n",
    "\n",
    "Observando las diferencias entre lps dos prestamos, vemos como hay un mayor incremento de el BadRate durante el segundo ciclo de cuartos en los prestamos de 7Y con respect los prestamos originados hace 3Y.  La diferencia entre ambos va incrementando a medida que el DefaultedCycle incrementa, a pesar de ello como podemos observar en la **tabla TD2**.\n",
    "\n",
    "El comportamiento del prestamo 7Y tiene un crecimiento continuo, aunque se va estabilizando a medida que los ciclos de cuartos van incrementado, este comportamiento se comparte con la mayoria de prestamos. \n",
    "\n",
    "En cuanto al prestamo 3Y tiene un crecimiento menor y se estabiliza sobre el ciclo de los quartos 30.\n",
    "\n",
    "Esto demuestra como los prestamos han mejorado su eficacia y la evaluacion crediticia de los bancos ha mejorado, ya que BR decrecen a medida que el origen de los prestamos es menor. "
   ]
  },
  {
   "cell_type": "code",
   "execution_count": 9,
   "metadata": {},
   "outputs": [],
   "source": [
    "a = df_vintage[df_vintage.LoanMonthsSinceOriginationY==7].BR.reset_index().drop('index',axis=1)\n",
    "b = df_vintage[df_vintage.LoanMonthsSinceOriginationY==3].BR.reset_index().drop('index',axis=1)\n",
    "TD2 = a-b"
   ]
  },
  {
   "cell_type": "code",
   "execution_count": 10,
   "metadata": {},
   "outputs": [
    {
     "data": {
      "text/html": [
       "<div>\n",
       "<style scoped>\n",
       "    .dataframe tbody tr th:only-of-type {\n",
       "        vertical-align: middle;\n",
       "    }\n",
       "\n",
       "    .dataframe tbody tr th {\n",
       "        vertical-align: top;\n",
       "    }\n",
       "\n",
       "    .dataframe thead th {\n",
       "        text-align: right;\n",
       "    }\n",
       "</style>\n",
       "<table border=\"1\" class=\"dataframe\">\n",
       "  <thead>\n",
       "    <tr style=\"text-align: right;\">\n",
       "      <th></th>\n",
       "      <th>BR</th>\n",
       "    </tr>\n",
       "  </thead>\n",
       "  <tbody>\n",
       "    <tr>\n",
       "      <th>0</th>\n",
       "      <td>1.490185</td>\n",
       "    </tr>\n",
       "    <tr>\n",
       "      <th>1</th>\n",
       "      <td>1.940798</td>\n",
       "    </tr>\n",
       "    <tr>\n",
       "      <th>2</th>\n",
       "      <td>7.566395</td>\n",
       "    </tr>\n",
       "    <tr>\n",
       "      <th>3</th>\n",
       "      <td>10.389986</td>\n",
       "    </tr>\n",
       "    <tr>\n",
       "      <th>4</th>\n",
       "      <td>13.076513</td>\n",
       "    </tr>\n",
       "    <tr>\n",
       "      <th>5</th>\n",
       "      <td>14.656691</td>\n",
       "    </tr>\n",
       "    <tr>\n",
       "      <th>6</th>\n",
       "      <td>16.863232</td>\n",
       "    </tr>\n",
       "    <tr>\n",
       "      <th>7</th>\n",
       "      <td>17.837351</td>\n",
       "    </tr>\n",
       "    <tr>\n",
       "      <th>8</th>\n",
       "      <td>19.741875</td>\n",
       "    </tr>\n",
       "    <tr>\n",
       "      <th>9</th>\n",
       "      <td>20.805991</td>\n",
       "    </tr>\n",
       "    <tr>\n",
       "      <th>10</th>\n",
       "      <td>22.172471</td>\n",
       "    </tr>\n",
       "  </tbody>\n",
       "</table>\n",
       "</div>"
      ],
      "text/plain": [
       "           BR\n",
       "0    1.490185\n",
       "1    1.940798\n",
       "2    7.566395\n",
       "3   10.389986\n",
       "4   13.076513\n",
       "5   14.656691\n",
       "6   16.863232\n",
       "7   17.837351\n",
       "8   19.741875\n",
       "9   20.805991\n",
       "10  22.172471"
      ]
     },
     "execution_count": 10,
     "metadata": {},
     "output_type": "execute_result"
    }
   ],
   "source": [
    "TD2"
   ]
  },
  {
   "cell_type": "markdown",
   "metadata": {},
   "source": [
    "## Good, bad, indeterminate definition"
   ]
  },
  {
   "cell_type": "markdown",
   "metadata": {},
   "source": [
    "**TODO 3** Implementa una función, que añada las siguientes columnas a nuestro dataframe df:\n",
    "- **PW**: Captura si el préstamo tiene una madurez(LoanMonthsSinceOrigination) mayor que la PW (Performance window). La variable de entrada PW_size captura el número de meses de la PW.\n",
    "- **fraud.**: Captura si el préstamo puede considerarse como un caso de fraude. En nuestro caso, consideramos fraude los préstamos que hayan tenido un evento de impago antes de TH_fraud.\n",
    "- **bad.**: Captura si el préstamo cumple la condición de malo. En nuestro caso, que el evento de impago haya ocurrido después de TH_fraud, y antes del final de la PW\n",
    "- **indeterm**: Captura si el préstamo se considera indeterminado. Definiremos indeterminados aquellos prestamos que han caído en impago después de la Performance window"
   ]
  },
  {
   "cell_type": "code",
   "execution_count": 38,
   "metadata": {
    "ExecuteTime": {
     "end_time": "2019-04-20T18:00:50.801632Z",
     "start_time": "2019-04-20T18:00:50.791028Z"
    }
   },
   "outputs": [],
   "source": [
    "# Use fraud threshold = 4 months\n",
    "# PW sera de 12 meses\n",
    "\n",
    "def generate_pop_flags(df, PW_size, TH_fraud=4):\n",
    "    \"\"\"Generates fraud, bad, and indeterminate columns\n",
    "    \n",
    "    Args:\n",
    "        df: Pandas DataFrame with the input data\n",
    "        PW_size: Int Performance window size (months)\n",
    "        TH_fraud: Int number of months used as treshold for fraud\n",
    "        \n",
    "    Returns:\n",
    "        Pandas DataFrame with the columns that capture\n",
    "        PW, fraud, bad and indeterminate\n",
    "    \"\"\"\n",
    "    ## Implement the function HERE ##\n",
    "    PW = []\n",
    "    for x in df.LoanMonthsSinceOrigination:\n",
    "         if x > PW_size:\n",
    "              PW.append(True)\n",
    "         else:\n",
    "              PW.append(False)\n",
    "    df['PW'] = PW\n",
    "    Fraud = []\n",
    "    for x in df.LoanFirstDefaultedCycleNumber:\n",
    "          if x < TH_fraud and x != 0:\n",
    "                Fraud.append(True)\n",
    "          else: \n",
    "            Fraud.append(False)\n",
    "    df['fraud'] = Fraud\n",
    "    Bad = []\n",
    "    for x in df.LoanFirstDefaultedCycleNumber:\n",
    "          if x > TH_fraud and x < PW_size:\n",
    "                Bad.append(True)\n",
    "          else: \n",
    "            Bad.append(False)\n",
    "    df['bad'] = Bad\n",
    "    Indeterm = []\n",
    "    for x in df.LoanFirstDefaultedCycleNumber:\n",
    "          if x > PW_size:\n",
    "                Indeterm.append(True)\n",
    "          else: \n",
    "            Indeterm.append(False)\n",
    "    df['indeterm'] = Indeterm    \n",
    "    return df\n",
    "\n",
    "def get_volume_y_ratio_DF(df):\n",
    "      a = pd.DataFrame(columns=['Volumen de Prestamos Maduros', 'Ratio de Prestamos Maduros',\n",
    "                                'Volumen de Prestamos Fraudulentos', 'Ratio de Prestamos Fraudulentos',\n",
    "                                'Volumen de Prestamos Bad', 'Ratio de Prestamos Bad',\n",
    "                                'Volumen de Prestamos Indeterminados', 'Ratio de Prestamos Indeterminados'])\n",
    "      a['Volumen de Prestamos Maduros'] = df.PW.value_counts()\n",
    "      a['Ratio de Prestamos Maduros'] = df.PW.value_counts()/len(df)\n",
    "      a['Volumen de Prestamos Fraudulentos'] = df.fraud.value_counts()\n",
    "      a['Ratio de Prestamos Fraudulentos'] = df.fraud.value_counts()/len(df)\n",
    "      a['Volumen de Prestamos Bad'] = df.bad.value_counts()\n",
    "      a['Ratio de Prestamos Bad'] = df.bad.value_counts()/len(df)\n",
    "      a['Volumen de Prestamos Indeterminados'] = df.indeterm.value_counts()\n",
    "      a['Ratio de Prestamos Indeterminados'] = df.indeterm.value_counts()/len(df)\n",
    "      return a"
   ]
  },
  {
   "cell_type": "markdown",
   "metadata": {},
   "source": [
    "**TODO 4** Para diferentes PW_size (se recomiendan evaluar los siguientes valores: 6, 9, 12, 15 y 18), evalúa el volumen y ratio de prestamos con madurez, prestamos fraudulentos, prestamos que cumplan la definición de bad, y préstamos que se consideren indeterminados. Por último, argumenta cuál es el valor de PW_size que se debería usar. La función se debe usar con el valor por defecto de  TH_fraud=4"
   ]
  },
  {
   "cell_type": "code",
   "execution_count": 39,
   "metadata": {},
   "outputs": [
    {
     "data": {
      "text/html": [
       "<div>\n",
       "<style scoped>\n",
       "    .dataframe tbody tr th:only-of-type {\n",
       "        vertical-align: middle;\n",
       "    }\n",
       "\n",
       "    .dataframe tbody tr th {\n",
       "        vertical-align: top;\n",
       "    }\n",
       "\n",
       "    .dataframe thead th {\n",
       "        text-align: right;\n",
       "    }\n",
       "</style>\n",
       "<table border=\"1\" class=\"dataframe\">\n",
       "  <thead>\n",
       "    <tr style=\"text-align: right;\">\n",
       "      <th></th>\n",
       "      <th>Volumen de Prestamos Maduros</th>\n",
       "      <th>Ratio de Prestamos Maduros</th>\n",
       "      <th>Volumen de Prestamos Fraudulentos</th>\n",
       "      <th>Ratio de Prestamos Fraudulentos</th>\n",
       "      <th>Volumen de Prestamos Bad</th>\n",
       "      <th>Ratio de Prestamos Bad</th>\n",
       "      <th>Volumen de Prestamos Indeterminados</th>\n",
       "      <th>Ratio de Prestamos Indeterminados</th>\n",
       "    </tr>\n",
       "    <tr>\n",
       "      <th>PW</th>\n",
       "      <th></th>\n",
       "      <th></th>\n",
       "      <th></th>\n",
       "      <th></th>\n",
       "      <th></th>\n",
       "      <th></th>\n",
       "      <th></th>\n",
       "      <th></th>\n",
       "    </tr>\n",
       "  </thead>\n",
       "  <tbody>\n",
       "    <tr>\n",
       "      <th>True</th>\n",
       "      <td>84129</td>\n",
       "      <td>0.738382</td>\n",
       "      <td>490</td>\n",
       "      <td>0.004301</td>\n",
       "      <td>379</td>\n",
       "      <td>0.003326</td>\n",
       "      <td>15294</td>\n",
       "      <td>0.134232</td>\n",
       "    </tr>\n",
       "    <tr>\n",
       "      <th>False</th>\n",
       "      <td>29808</td>\n",
       "      <td>0.261618</td>\n",
       "      <td>113447</td>\n",
       "      <td>0.995699</td>\n",
       "      <td>113558</td>\n",
       "      <td>0.996674</td>\n",
       "      <td>98643</td>\n",
       "      <td>0.865768</td>\n",
       "    </tr>\n",
       "  </tbody>\n",
       "</table>\n",
       "</div>"
      ],
      "text/plain": [
       "       Volumen de Prestamos Maduros  Ratio de Prestamos Maduros  \\\n",
       "PW                                                                \n",
       "True                          84129                    0.738382   \n",
       "False                         29808                    0.261618   \n",
       "\n",
       "       Volumen de Prestamos Fraudulentos  Ratio de Prestamos Fraudulentos  \\\n",
       "PW                                                                          \n",
       "True                                 490                         0.004301   \n",
       "False                             113447                         0.995699   \n",
       "\n",
       "       Volumen de Prestamos Bad  Ratio de Prestamos Bad  \\\n",
       "PW                                                        \n",
       "True                        379                0.003326   \n",
       "False                    113558                0.996674   \n",
       "\n",
       "       Volumen de Prestamos Indeterminados  Ratio de Prestamos Indeterminados  \n",
       "PW                                                                             \n",
       "True                                 15294                           0.134232  \n",
       "False                                98643                           0.865768  "
      ]
     },
     "execution_count": 39,
     "metadata": {},
     "output_type": "execute_result"
    }
   ],
   "source": [
    "# Test different PW_size values here\n",
    "# Probamos con el varios valores\n",
    "#PW_size = 6\n",
    "df6 = generate_pop_flags(df,6)\n",
    "get_volume_y_ratio_DF(df6)\n"
   ]
  },
  {
   "cell_type": "code",
   "execution_count": 40,
   "metadata": {},
   "outputs": [
    {
     "data": {
      "text/html": [
       "<div>\n",
       "<style scoped>\n",
       "    .dataframe tbody tr th:only-of-type {\n",
       "        vertical-align: middle;\n",
       "    }\n",
       "\n",
       "    .dataframe tbody tr th {\n",
       "        vertical-align: top;\n",
       "    }\n",
       "\n",
       "    .dataframe thead th {\n",
       "        text-align: right;\n",
       "    }\n",
       "</style>\n",
       "<table border=\"1\" class=\"dataframe\">\n",
       "  <thead>\n",
       "    <tr style=\"text-align: right;\">\n",
       "      <th></th>\n",
       "      <th>Volumen de Prestamos Maduros</th>\n",
       "      <th>Ratio de Prestamos Maduros</th>\n",
       "      <th>Volumen de Prestamos Fraudulentos</th>\n",
       "      <th>Ratio de Prestamos Fraudulentos</th>\n",
       "      <th>Volumen de Prestamos Bad</th>\n",
       "      <th>Ratio de Prestamos Bad</th>\n",
       "      <th>Volumen de Prestamos Indeterminados</th>\n",
       "      <th>Ratio de Prestamos Indeterminados</th>\n",
       "    </tr>\n",
       "    <tr>\n",
       "      <th>PW</th>\n",
       "      <th></th>\n",
       "      <th></th>\n",
       "      <th></th>\n",
       "      <th></th>\n",
       "      <th></th>\n",
       "      <th></th>\n",
       "      <th></th>\n",
       "      <th></th>\n",
       "    </tr>\n",
       "  </thead>\n",
       "  <tbody>\n",
       "    <tr>\n",
       "      <th>True</th>\n",
       "      <td>75441</td>\n",
       "      <td>0.662129</td>\n",
       "      <td>490</td>\n",
       "      <td>0.004301</td>\n",
       "      <td>2930</td>\n",
       "      <td>0.025716</td>\n",
       "      <td>12549</td>\n",
       "      <td>0.11014</td>\n",
       "    </tr>\n",
       "    <tr>\n",
       "      <th>False</th>\n",
       "      <td>38496</td>\n",
       "      <td>0.337871</td>\n",
       "      <td>113447</td>\n",
       "      <td>0.995699</td>\n",
       "      <td>111007</td>\n",
       "      <td>0.974284</td>\n",
       "      <td>101388</td>\n",
       "      <td>0.88986</td>\n",
       "    </tr>\n",
       "  </tbody>\n",
       "</table>\n",
       "</div>"
      ],
      "text/plain": [
       "       Volumen de Prestamos Maduros  Ratio de Prestamos Maduros  \\\n",
       "PW                                                                \n",
       "True                          75441                    0.662129   \n",
       "False                         38496                    0.337871   \n",
       "\n",
       "       Volumen de Prestamos Fraudulentos  Ratio de Prestamos Fraudulentos  \\\n",
       "PW                                                                          \n",
       "True                                 490                         0.004301   \n",
       "False                             113447                         0.995699   \n",
       "\n",
       "       Volumen de Prestamos Bad  Ratio de Prestamos Bad  \\\n",
       "PW                                                        \n",
       "True                       2930                0.025716   \n",
       "False                    111007                0.974284   \n",
       "\n",
       "       Volumen de Prestamos Indeterminados  Ratio de Prestamos Indeterminados  \n",
       "PW                                                                             \n",
       "True                                 12549                            0.11014  \n",
       "False                               101388                            0.88986  "
      ]
     },
     "execution_count": 40,
     "metadata": {},
     "output_type": "execute_result"
    }
   ],
   "source": [
    "#PW_size = 9\n",
    "df9 = generate_pop_flags(df,9)\n",
    "get_volume_y_ratio_DF(df9)"
   ]
  },
  {
   "cell_type": "code",
   "execution_count": 42,
   "metadata": {},
   "outputs": [
    {
     "data": {
      "text/html": [
       "<div>\n",
       "<style scoped>\n",
       "    .dataframe tbody tr th:only-of-type {\n",
       "        vertical-align: middle;\n",
       "    }\n",
       "\n",
       "    .dataframe tbody tr th {\n",
       "        vertical-align: top;\n",
       "    }\n",
       "\n",
       "    .dataframe thead th {\n",
       "        text-align: right;\n",
       "    }\n",
       "</style>\n",
       "<table border=\"1\" class=\"dataframe\">\n",
       "  <thead>\n",
       "    <tr style=\"text-align: right;\">\n",
       "      <th></th>\n",
       "      <th>Volumen de Prestamos Maduros</th>\n",
       "      <th>Ratio de Prestamos Maduros</th>\n",
       "      <th>Volumen de Prestamos Fraudulentos</th>\n",
       "      <th>Ratio de Prestamos Fraudulentos</th>\n",
       "      <th>Volumen de Prestamos Bad</th>\n",
       "      <th>Ratio de Prestamos Bad</th>\n",
       "      <th>Volumen de Prestamos Indeterminados</th>\n",
       "      <th>Ratio de Prestamos Indeterminados</th>\n",
       "    </tr>\n",
       "    <tr>\n",
       "      <th>PW</th>\n",
       "      <th></th>\n",
       "      <th></th>\n",
       "      <th></th>\n",
       "      <th></th>\n",
       "      <th></th>\n",
       "      <th></th>\n",
       "      <th></th>\n",
       "      <th></th>\n",
       "    </tr>\n",
       "  </thead>\n",
       "  <tbody>\n",
       "    <tr>\n",
       "      <th>True</th>\n",
       "      <td>69522</td>\n",
       "      <td>0.610179</td>\n",
       "      <td>490</td>\n",
       "      <td>0.004301</td>\n",
       "      <td>5600</td>\n",
       "      <td>0.04915</td>\n",
       "      <td>9993</td>\n",
       "      <td>0.087706</td>\n",
       "    </tr>\n",
       "    <tr>\n",
       "      <th>False</th>\n",
       "      <td>44415</td>\n",
       "      <td>0.389821</td>\n",
       "      <td>113447</td>\n",
       "      <td>0.995699</td>\n",
       "      <td>108337</td>\n",
       "      <td>0.95085</td>\n",
       "      <td>103944</td>\n",
       "      <td>0.912294</td>\n",
       "    </tr>\n",
       "  </tbody>\n",
       "</table>\n",
       "</div>"
      ],
      "text/plain": [
       "       Volumen de Prestamos Maduros  Ratio de Prestamos Maduros  \\\n",
       "PW                                                                \n",
       "True                          69522                    0.610179   \n",
       "False                         44415                    0.389821   \n",
       "\n",
       "       Volumen de Prestamos Fraudulentos  Ratio de Prestamos Fraudulentos  \\\n",
       "PW                                                                          \n",
       "True                                 490                         0.004301   \n",
       "False                             113447                         0.995699   \n",
       "\n",
       "       Volumen de Prestamos Bad  Ratio de Prestamos Bad  \\\n",
       "PW                                                        \n",
       "True                       5600                 0.04915   \n",
       "False                    108337                 0.95085   \n",
       "\n",
       "       Volumen de Prestamos Indeterminados  Ratio de Prestamos Indeterminados  \n",
       "PW                                                                             \n",
       "True                                  9993                           0.087706  \n",
       "False                               103944                           0.912294  "
      ]
     },
     "execution_count": 42,
     "metadata": {},
     "output_type": "execute_result"
    }
   ],
   "source": [
    "#PW_size = 12\n",
    "df12 = generate_pop_flags(df,12)\n",
    "get_volume_y_ratio_DF(df12)"
   ]
  },
  {
   "cell_type": "code",
   "execution_count": 15,
   "metadata": {},
   "outputs": [
    {
     "data": {
      "text/html": [
       "<div>\n",
       "<style scoped>\n",
       "    .dataframe tbody tr th:only-of-type {\n",
       "        vertical-align: middle;\n",
       "    }\n",
       "\n",
       "    .dataframe tbody tr th {\n",
       "        vertical-align: top;\n",
       "    }\n",
       "\n",
       "    .dataframe thead th {\n",
       "        text-align: right;\n",
       "    }\n",
       "</style>\n",
       "<table border=\"1\" class=\"dataframe\">\n",
       "  <thead>\n",
       "    <tr style=\"text-align: right;\">\n",
       "      <th></th>\n",
       "      <th>Volumen de Prestamos Maduros</th>\n",
       "      <th>Ratio de Prestamos Maduros</th>\n",
       "      <th>Volumen de Prestamos Fraudulentos</th>\n",
       "      <th>Ratio de Prestamos Fraudulentos</th>\n",
       "      <th>Volumen de Prestamos Bad</th>\n",
       "      <th>Ratio de Prestamos Bad</th>\n",
       "      <th>Volumen de Prestamos Indeterminados</th>\n",
       "      <th>Ratio de Prestamos Indeterminados</th>\n",
       "    </tr>\n",
       "    <tr>\n",
       "      <th>PW</th>\n",
       "      <th></th>\n",
       "      <th></th>\n",
       "      <th></th>\n",
       "      <th></th>\n",
       "      <th></th>\n",
       "      <th></th>\n",
       "      <th></th>\n",
       "      <th></th>\n",
       "    </tr>\n",
       "  </thead>\n",
       "  <tbody>\n",
       "    <tr>\n",
       "      <th>True</th>\n",
       "      <td>66218</td>\n",
       "      <td>0.581181</td>\n",
       "      <td>490</td>\n",
       "      <td>0.004301</td>\n",
       "      <td>7928</td>\n",
       "      <td>0.069582</td>\n",
       "      <td>7764</td>\n",
       "      <td>0.068143</td>\n",
       "    </tr>\n",
       "    <tr>\n",
       "      <th>False</th>\n",
       "      <td>47719</td>\n",
       "      <td>0.418819</td>\n",
       "      <td>113447</td>\n",
       "      <td>0.995699</td>\n",
       "      <td>106009</td>\n",
       "      <td>0.930418</td>\n",
       "      <td>106173</td>\n",
       "      <td>0.931857</td>\n",
       "    </tr>\n",
       "  </tbody>\n",
       "</table>\n",
       "</div>"
      ],
      "text/plain": [
       "       Volumen de Prestamos Maduros  Ratio de Prestamos Maduros  \\\n",
       "PW                                                                \n",
       "True                          66218                    0.581181   \n",
       "False                         47719                    0.418819   \n",
       "\n",
       "       Volumen de Prestamos Fraudulentos  Ratio de Prestamos Fraudulentos  \\\n",
       "PW                                                                          \n",
       "True                                 490                         0.004301   \n",
       "False                             113447                         0.995699   \n",
       "\n",
       "       Volumen de Prestamos Bad  Ratio de Prestamos Bad  \\\n",
       "PW                                                        \n",
       "True                       7928                0.069582   \n",
       "False                    106009                0.930418   \n",
       "\n",
       "       Volumen de Prestamos Indeterminados  Ratio de Prestamos Indeterminados  \n",
       "PW                                                                             \n",
       "True                                  7764                           0.068143  \n",
       "False                               106173                           0.931857  "
      ]
     },
     "execution_count": 15,
     "metadata": {},
     "output_type": "execute_result"
    }
   ],
   "source": [
    "#PW_size = 15\n",
    "df15 = generate_pop_flags(df,15)\n",
    "get_volume_y_ratio_DF(df15)"
   ]
  },
  {
   "cell_type": "code",
   "execution_count": 16,
   "metadata": {},
   "outputs": [
    {
     "data": {
      "text/html": [
       "<div>\n",
       "<style scoped>\n",
       "    .dataframe tbody tr th:only-of-type {\n",
       "        vertical-align: middle;\n",
       "    }\n",
       "\n",
       "    .dataframe tbody tr th {\n",
       "        vertical-align: top;\n",
       "    }\n",
       "\n",
       "    .dataframe thead th {\n",
       "        text-align: right;\n",
       "    }\n",
       "</style>\n",
       "<table border=\"1\" class=\"dataframe\">\n",
       "  <thead>\n",
       "    <tr style=\"text-align: right;\">\n",
       "      <th></th>\n",
       "      <th>Volumen de Prestamos Maduros</th>\n",
       "      <th>Ratio de Prestamos Maduros</th>\n",
       "      <th>Volumen de Prestamos Fraudulentos</th>\n",
       "      <th>Ratio de Prestamos Fraudulentos</th>\n",
       "      <th>Volumen de Prestamos Bad</th>\n",
       "      <th>Ratio de Prestamos Bad</th>\n",
       "      <th>Volumen de Prestamos Indeterminados</th>\n",
       "      <th>Ratio de Prestamos Indeterminados</th>\n",
       "    </tr>\n",
       "    <tr>\n",
       "      <th>PW</th>\n",
       "      <th></th>\n",
       "      <th></th>\n",
       "      <th></th>\n",
       "      <th></th>\n",
       "      <th></th>\n",
       "      <th></th>\n",
       "      <th></th>\n",
       "      <th></th>\n",
       "    </tr>\n",
       "  </thead>\n",
       "  <tbody>\n",
       "    <tr>\n",
       "      <th>True</th>\n",
       "      <td>61143</td>\n",
       "      <td>0.536639</td>\n",
       "      <td>490</td>\n",
       "      <td>0.004301</td>\n",
       "      <td>9980</td>\n",
       "      <td>0.087592</td>\n",
       "      <td>5835</td>\n",
       "      <td>0.051213</td>\n",
       "    </tr>\n",
       "    <tr>\n",
       "      <th>False</th>\n",
       "      <td>52794</td>\n",
       "      <td>0.463361</td>\n",
       "      <td>113447</td>\n",
       "      <td>0.995699</td>\n",
       "      <td>103957</td>\n",
       "      <td>0.912408</td>\n",
       "      <td>108102</td>\n",
       "      <td>0.948787</td>\n",
       "    </tr>\n",
       "  </tbody>\n",
       "</table>\n",
       "</div>"
      ],
      "text/plain": [
       "       Volumen de Prestamos Maduros  Ratio de Prestamos Maduros  \\\n",
       "PW                                                                \n",
       "True                          61143                    0.536639   \n",
       "False                         52794                    0.463361   \n",
       "\n",
       "       Volumen de Prestamos Fraudulentos  Ratio de Prestamos Fraudulentos  \\\n",
       "PW                                                                          \n",
       "True                                 490                         0.004301   \n",
       "False                             113447                         0.995699   \n",
       "\n",
       "       Volumen de Prestamos Bad  Ratio de Prestamos Bad  \\\n",
       "PW                                                        \n",
       "True                       9980                0.087592   \n",
       "False                    103957                0.912408   \n",
       "\n",
       "       Volumen de Prestamos Indeterminados  Ratio de Prestamos Indeterminados  \n",
       "PW                                                                             \n",
       "True                                  5835                           0.051213  \n",
       "False                               108102                           0.948787  "
      ]
     },
     "execution_count": 16,
     "metadata": {},
     "output_type": "execute_result"
    }
   ],
   "source": [
    "#PW_size = 18\n",
    "df18 = generate_pop_flags(df,18)\n",
    "get_volume_y_ratio_DF(df18)"
   ]
  },
  {
   "cell_type": "markdown",
   "metadata": {},
   "source": [
    "Un vez observados los Dataset"
   ]
  },
  {
   "cell_type": "code",
   "execution_count": 43,
   "metadata": {},
   "outputs": [],
   "source": [
    "PW_size = 12\n",
    "df = generate_pop_flags(df, PW_size)"
   ]
  },
  {
   "cell_type": "markdown",
   "metadata": {},
   "source": [
    "Tras analizar los distintos sizes determinados por el ejercicio, coincidimos en que el valor mejor es el Power Window mas pequeña ya que el numero de prestamos maduros incrementa, los prestamos BAD decrecen y los indeterminados incrementa también. Al incrementar los indeterminados no significa estrictamente una perdida."
   ]
  },
  {
   "cell_type": "markdown",
   "metadata": {},
   "source": [
    "## First exclusion set"
   ]
  },
  {
   "cell_type": "markdown",
   "metadata": {},
   "source": [
    "**TODO 5** Implementa una función que ejecutará las exclusiones a nuestro dataframe. La función debe excluir los siguientes préstamos:\n",
    "- Préstamos que tengan una madurez menor que la PW\n",
    "- Préstamos que se consideren como fraude\n",
    "    "
   ]
  },
  {
   "cell_type": "code",
   "execution_count": 44,
   "metadata": {
    "ExecuteTime": {
     "end_time": "2019-04-12T20:26:21.645224Z",
     "start_time": "2019-04-12T20:26:21.501445Z"
    }
   },
   "outputs": [],
   "source": [
    "\"\"\"Function that handles the population definition\n",
    "    \n",
    "    Args:\n",
    "        df: Pandas DataFrame with the in time input data\n",
    "        \n",
    "    Returns:\n",
    "        Pandas DataFrame with the population definition applied\n",
    "    \"\"\"\n",
    "    ## Implement the function HERE ##\n",
    "def filter_exclusions(df, PW_size, TH_fraud=4):\n",
    "    df = df[df['PW'] & df['fraud'] == False]\n",
    "    return df"
   ]
  },
  {
   "cell_type": "code",
   "execution_count": 45,
   "metadata": {
    "ExecuteTime": {
     "end_time": "2019-04-12T20:26:21.669661Z",
     "start_time": "2019-04-12T20:26:21.654986Z"
    }
   },
   "outputs": [
    {
     "name": "stdout",
     "output_type": "stream",
     "text": [
      "The DataSet has 113448 rows and 88 columns\n"
     ]
    }
   ],
   "source": [
    "df = filter_exclusions(df,12)\n",
    "print ('The DataSet has {} rows and {} columns'.format(df.shape[0], df.shape[1]))"
   ]
  },
  {
   "cell_type": "markdown",
   "metadata": {},
   "source": [
    "## Bad rate"
   ]
  },
  {
   "cell_type": "code",
   "execution_count": 255,
   "metadata": {
    "ExecuteTime": {
     "end_time": "2019-04-12T20:26:21.701528Z",
     "start_time": "2019-04-12T20:26:21.677973Z"
    }
   },
   "outputs": [
    {
     "data": {
      "text/plain": [
       "bad\n",
       "False    86446\n",
       "True       379\n",
       "Name: count, dtype: int64"
      ]
     },
     "execution_count": 255,
     "metadata": {},
     "output_type": "execute_result"
    }
   ],
   "source": [
    "df.bad.value_counts()"
   ]
  },
  {
   "cell_type": "code",
   "execution_count": 256,
   "metadata": {
    "ExecuteTime": {
     "end_time": "2019-04-12T20:26:21.733641Z",
     "start_time": "2019-04-12T20:26:21.709742Z"
    }
   },
   "outputs": [
    {
     "data": {
      "text/plain": [
       "bad\n",
       "False    99.56349\n",
       "True      0.43651\n",
       "Name: count, dtype: float64"
      ]
     },
     "execution_count": 256,
     "metadata": {},
     "output_type": "execute_result"
    }
   ],
   "source": [
    "100. * df.bad.value_counts() / df.shape[0]"
   ]
  },
  {
   "cell_type": "code",
   "execution_count": 257,
   "metadata": {
    "ExecuteTime": {
     "end_time": "2019-04-12T20:26:21.802128Z",
     "start_time": "2019-04-12T20:26:21.742727Z"
    }
   },
   "outputs": [
    {
     "data": {
      "text/html": [
       "<div>\n",
       "<style scoped>\n",
       "    .dataframe tbody tr th:only-of-type {\n",
       "        vertical-align: middle;\n",
       "    }\n",
       "\n",
       "    .dataframe tbody tr th {\n",
       "        vertical-align: top;\n",
       "    }\n",
       "\n",
       "    .dataframe thead th {\n",
       "        text-align: right;\n",
       "    }\n",
       "</style>\n",
       "<table border=\"1\" class=\"dataframe\">\n",
       "  <thead>\n",
       "    <tr style=\"text-align: right;\">\n",
       "      <th></th>\n",
       "      <th>ListingCreationDate</th>\n",
       "      <th>LoanOriginationDate</th>\n",
       "    </tr>\n",
       "  </thead>\n",
       "  <tbody>\n",
       "    <tr>\n",
       "      <th>0</th>\n",
       "      <td>2007-08-26 19:09:29.263000000</td>\n",
       "      <td>2007-09-12 00:00:00</td>\n",
       "    </tr>\n",
       "    <tr>\n",
       "      <th>2</th>\n",
       "      <td>2007-01-05 15:00:47.090000000</td>\n",
       "      <td>2007-01-17 00:00:00</td>\n",
       "    </tr>\n",
       "    <tr>\n",
       "      <th>3</th>\n",
       "      <td>2012-10-22 11:02:35.010000000</td>\n",
       "      <td>2012-11-01 00:00:00</td>\n",
       "    </tr>\n",
       "    <tr>\n",
       "      <th>4</th>\n",
       "      <td>2013-09-14 18:38:39.097000000</td>\n",
       "      <td>2013-09-20 00:00:00</td>\n",
       "    </tr>\n",
       "    <tr>\n",
       "      <th>6</th>\n",
       "      <td>2013-04-12 09:52:56.147000000</td>\n",
       "      <td>2013-04-18 00:00:00</td>\n",
       "    </tr>\n",
       "  </tbody>\n",
       "</table>\n",
       "</div>"
      ],
      "text/plain": [
       "             ListingCreationDate  LoanOriginationDate\n",
       "0  2007-08-26 19:09:29.263000000  2007-09-12 00:00:00\n",
       "2  2007-01-05 15:00:47.090000000  2007-01-17 00:00:00\n",
       "3  2012-10-22 11:02:35.010000000  2012-11-01 00:00:00\n",
       "4  2013-09-14 18:38:39.097000000  2013-09-20 00:00:00\n",
       "6  2013-04-12 09:52:56.147000000  2013-04-18 00:00:00"
      ]
     },
     "execution_count": 257,
     "metadata": {},
     "output_type": "execute_result"
    }
   ],
   "source": [
    "df[['ListingCreationDate', 'LoanOriginationDate']].head()"
   ]
  },
  {
   "cell_type": "code",
   "execution_count": 258,
   "metadata": {
    "ExecuteTime": {
     "end_time": "2019-04-12T20:26:22.116898Z",
     "start_time": "2019-04-12T20:26:21.812209Z"
    }
   },
   "outputs": [],
   "source": [
    "df['LoanOriginationDate'] = pd.to_datetime(df.LoanOriginationDate.str[:10])\n",
    "df['LoanOriginationYear'] = pd.to_datetime(df.LoanOriginationDate.values).year"
   ]
  },
  {
   "cell_type": "markdown",
   "metadata": {},
   "source": [
    "## Additional exclusions"
   ]
  },
  {
   "cell_type": "markdown",
   "metadata": {},
   "source": [
    "Una vez aplicadas las exclusiones anteriores, vamos a estudiar la tasa de malos por año de origen del préstamo."
   ]
  },
  {
   "cell_type": "markdown",
   "metadata": {},
   "source": [
    "**TODO 6** Implementa una función agregue los préstamos por año (LoanOriginationYear), y compute el número de prestamos, el número de \"malos\" y la tasa de malos."
   ]
  },
  {
   "cell_type": "code",
   "execution_count": 259,
   "metadata": {
    "ExecuteTime": {
     "end_time": "2019-04-12T20:26:22.318720Z",
     "start_time": "2019-04-12T20:26:22.125984Z"
    }
   },
   "outputs": [],
   "source": [
    "def describe_yearly_BR(df, col_year, col_target):\n",
    "    \"\"\"Describes the yearly number of loans, bad loans and bad rate of the portfolio\n",
    "    \n",
    "    Args:\n",
    "        df: Pandas DataFrame with the input data\n",
    "        col_year: Name of the column that captures the loan origination date\n",
    "        col_target: Name of the target column\n",
    "        \n",
    "    Returns:\n",
    "        Pandas DataFrame with the yearly number of loans, bad \n",
    "        loans and bad rate of the portfolio \n",
    "    \"\"\"\n",
    "    ## Implement the function HERE ##\n",
    "    new_df = pd.DataFrame()\n",
    "    new_df['Yearly_total_number']= df.groupby([col_year])[col_target].agg('count')\n",
    "    new_df['Yearly_total_bad'] = df[df[col_target]==True].groupby(col_year)[col_target].agg('count')\n",
    "    new_df['Ratio_bad'] = round(new_df['Yearly_total_bad']/new_df['Yearly_total_number'],4)\n",
    "    return new_df"
   ]
  },
  {
   "cell_type": "code",
   "execution_count": 260,
   "metadata": {
    "ExecuteTime": {
     "end_time": "2019-04-12T20:26:22.463225Z",
     "start_time": "2019-04-12T20:26:22.328225Z"
    }
   },
   "outputs": [
    {
     "data": {
      "text/html": [
       "<div>\n",
       "<style scoped>\n",
       "    .dataframe tbody tr th:only-of-type {\n",
       "        vertical-align: middle;\n",
       "    }\n",
       "\n",
       "    .dataframe tbody tr th {\n",
       "        vertical-align: top;\n",
       "    }\n",
       "\n",
       "    .dataframe thead th {\n",
       "        text-align: right;\n",
       "    }\n",
       "</style>\n",
       "<table border=\"1\" class=\"dataframe\">\n",
       "  <thead>\n",
       "    <tr style=\"text-align: right;\">\n",
       "      <th></th>\n",
       "      <th>Yearly_total_number</th>\n",
       "      <th>Yearly_total_bad</th>\n",
       "      <th>Ratio_bad</th>\n",
       "    </tr>\n",
       "    <tr>\n",
       "      <th>LoanOriginationYear</th>\n",
       "      <th></th>\n",
       "      <th></th>\n",
       "      <th></th>\n",
       "    </tr>\n",
       "  </thead>\n",
       "  <tbody>\n",
       "    <tr>\n",
       "      <th>2005</th>\n",
       "      <td>22</td>\n",
       "      <td>NaN</td>\n",
       "      <td>NaN</td>\n",
       "    </tr>\n",
       "    <tr>\n",
       "      <th>2006</th>\n",
       "      <td>5842</td>\n",
       "      <td>66.0</td>\n",
       "      <td>0.0113</td>\n",
       "    </tr>\n",
       "    <tr>\n",
       "      <th>2007</th>\n",
       "      <td>11287</td>\n",
       "      <td>99.0</td>\n",
       "      <td>0.0088</td>\n",
       "    </tr>\n",
       "    <tr>\n",
       "      <th>2008</th>\n",
       "      <td>11414</td>\n",
       "      <td>61.0</td>\n",
       "      <td>0.0053</td>\n",
       "    </tr>\n",
       "    <tr>\n",
       "      <th>2009</th>\n",
       "      <td>2033</td>\n",
       "      <td>4.0</td>\n",
       "      <td>0.0020</td>\n",
       "    </tr>\n",
       "    <tr>\n",
       "      <th>2010</th>\n",
       "      <td>5579</td>\n",
       "      <td>15.0</td>\n",
       "      <td>0.0027</td>\n",
       "    </tr>\n",
       "    <tr>\n",
       "      <th>2011</th>\n",
       "      <td>11208</td>\n",
       "      <td>46.0</td>\n",
       "      <td>0.0041</td>\n",
       "    </tr>\n",
       "    <tr>\n",
       "      <th>2012</th>\n",
       "      <td>19546</td>\n",
       "      <td>74.0</td>\n",
       "      <td>0.0038</td>\n",
       "    </tr>\n",
       "    <tr>\n",
       "      <th>2013</th>\n",
       "      <td>19894</td>\n",
       "      <td>14.0</td>\n",
       "      <td>0.0007</td>\n",
       "    </tr>\n",
       "  </tbody>\n",
       "</table>\n",
       "</div>"
      ],
      "text/plain": [
       "                     Yearly_total_number  Yearly_total_bad  Ratio_bad\n",
       "LoanOriginationYear                                                  \n",
       "2005                                  22               NaN        NaN\n",
       "2006                                5842              66.0     0.0113\n",
       "2007                               11287              99.0     0.0088\n",
       "2008                               11414              61.0     0.0053\n",
       "2009                                2033               4.0     0.0020\n",
       "2010                                5579              15.0     0.0027\n",
       "2011                               11208              46.0     0.0041\n",
       "2012                               19546              74.0     0.0038\n",
       "2013                               19894              14.0     0.0007"
      ]
     },
     "execution_count": 260,
     "metadata": {},
     "output_type": "execute_result"
    }
   ],
   "source": [
    "col_year = 'LoanOriginationYear'\n",
    "col_target = 'bad'\n",
    "describe_yearly_BR(df, col_year, col_target)"
   ]
  },
  {
   "cell_type": "markdown",
   "metadata": {},
   "source": [
    "**TODO 7** Usando los resultados obtenidos por la función describe_yearly_BR, define cuál será la Sample Window (qué años se consideraran para capturar préstamos en la población). La Sample Window debe de cumplir las siguientes condiciones: \n",
    "- Debe de tener un ratio de positivos (malos, en nuestro caso) aproximadamente constante\n",
    "- Debe de capturar un periodo que en principio debería representar el entorno en que se usará el modelo\n",
    "- Debe de capturar un periodo lo más reciente posible\n",
    "\n",
    "Define también qué periodo temporal capturará la muestra IT (In Time), y la muestra OOT (Out of time)."
   ]
  },
  {
   "cell_type": "markdown",
   "metadata": {},
   "source": [
    "Escribe tu respuesta aquí:\n",
    "En nuestro caso hemos escogido la Sample Window entre las fechas entre 2009 y 2012, ya que el ratio bad se mantiene bastante constante y es de los datos mas recientes que tenemos. El resto sera Out of time "
   ]
  },
  {
   "cell_type": "markdown",
   "metadata": {},
   "source": [
    "### Final output sampling:\n",
    "\n",
    "   \n",
    "\n",
    " - IT (In Time):\n",
    "     - Train\n",
    "     - Validation \n",
    "     - Reject Inference sample\n",
    " - OOT (Out of time)\n"
   ]
  },
  {
   "cell_type": "code",
   "execution_count": 261,
   "metadata": {},
   "outputs": [],
   "source": [
    "numbers = []\n",
    "for number in range(2009,2013):\n",
    "    numbers.append(number)\n"
   ]
  },
  {
   "cell_type": "code",
   "execution_count": 262,
   "metadata": {},
   "outputs": [],
   "source": [
    "numbers = []\n",
    "for number in range(2009,2013):\n",
    "    numbers.append(number)\n",
    "df_it = df[df['LoanOriginationYear'].isin(numbers)]"
   ]
  },
  {
   "cell_type": "code",
   "execution_count": 263,
   "metadata": {},
   "outputs": [
    {
     "data": {
      "text/plain": [
       "{2009, 2010, 2011, 2012}"
      ]
     },
     "execution_count": 263,
     "metadata": {},
     "output_type": "execute_result"
    }
   ],
   "source": [
    "set(df_it.LoanOriginationYear)"
   ]
  },
  {
   "cell_type": "code",
   "execution_count": 264,
   "metadata": {
    "ExecuteTime": {
     "end_time": "2019-04-12T20:26:22.567872Z",
     "start_time": "2019-04-12T20:26:22.471404Z"
    }
   },
   "outputs": [],
   "source": [
    "numbers = []\n",
    "for number in range(2009,2013):\n",
    "    numbers.append(number)\n",
    "df_it = df[df['LoanOriginationYear'].isin(numbers)]\n",
    "df_train = df_it.sample(frac=0.6, random_state=42)\n",
    "df_val_ri = df_it.loc[~df_it.index.isin(df_train.index)]\n",
    "df_val = df_val_ri.sample(frac=0.5, random_state=42)\n",
    "df_ri = df_val_ri.loc[~df_val_ri.index.isin(df_val.index)]"
   ]
  },
  {
   "cell_type": "code",
   "execution_count": 265,
   "metadata": {},
   "outputs": [],
   "source": [
    "df_oot = df[~df['LoanOriginationYear'].isin(numbers)]"
   ]
  },
  {
   "cell_type": "code",
   "execution_count": 266,
   "metadata": {},
   "outputs": [
    {
     "data": {
      "text/plain": [
       "(38366, 23020, 7673, 7673, 48459)"
      ]
     },
     "execution_count": 266,
     "metadata": {},
     "output_type": "execute_result"
    }
   ],
   "source": [
    "len(df_it), len(df_train), len(df_val), len(df_ri), len(df_oot)"
   ]
  },
  {
   "cell_type": "code",
   "execution_count": 267,
   "metadata": {
    "ExecuteTime": {
     "end_time": "2019-04-12T20:26:24.972769Z",
     "start_time": "2019-04-12T20:26:22.660105Z"
    }
   },
   "outputs": [],
   "source": [
    "# Write everything\n",
    "#df_train.to_csv('/workspaces/Credit_risk/prosperLoanData_train.csv', index=False)\n",
    "#df_val.to_csv('/workspaces/Credit_risk/prosperLoanData_val.csv', index=False)\n",
    "#df_ri.to_csv('/workspaces/Credit_risk/prosperLoanData_ri.csv', index=False)\n",
    "#df_oot.to_csv('/workspaces/Credit_risk/prosperLoanData_oot.csv', index=False)"
   ]
  }
 ],
 "metadata": {
  "kernelspec": {
   "display_name": "Python 3 (ipykernel)",
   "language": "python",
   "name": "python3"
  },
  "language_info": {
   "codemirror_mode": {
    "name": "ipython",
    "version": 3
   },
   "file_extension": ".py",
   "mimetype": "text/x-python",
   "name": "python",
   "nbconvert_exporter": "python",
   "pygments_lexer": "ipython3",
   "version": "3.10.8"
  }
 },
 "nbformat": 4,
 "nbformat_minor": 2
}
